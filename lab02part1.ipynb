{
  "nbformat": 4,
  "nbformat_minor": 0,
  "metadata": {
    "colab": {
      "provenance": [],
      "authorship_tag": "ABX9TyOIkt35w6YD+dFHJdDWmvpZ",
      "include_colab_link": true
    },
    "kernelspec": {
      "name": "python3",
      "display_name": "Python 3"
    },
    "language_info": {
      "name": "python"
    }
  },
  "cells": [
    {
      "cell_type": "markdown",
      "metadata": {
        "id": "view-in-github",
        "colab_type": "text"
      },
      "source": [
        "<a href=\"https://colab.research.google.com/github/Eshwar2916/AIML_2303A52377/blob/main/lab02part1_AIML.ipynb\" target=\"_parent\"><img src=\"https://colab.research.google.com/assets/colab-badge.svg\" alt=\"Open In Colab\"/></a>"
      ]
    },
    {
      "cell_type": "markdown",
      "source": [
        "Implement Breadth First Search Algorithm using a Queue"
      ],
      "metadata": {
        "id": "tClXiqv_B9nw"
      }
    },
    {
      "cell_type": "code",
      "source": [
        "from queue import Queue"
      ],
      "metadata": {
        "id": "0iYu7XDAC88q"
      },
      "execution_count": 12,
      "outputs": []
    },
    {
      "cell_type": "code",
      "source": [
        "graph = {\n",
        "    0: [1, 3],\n",
        "    1:[0, 2, 3],\n",
        "    2:[1, 4, 5],\n",
        "    3:[0, 1, 4],\n",
        "    4:[2, 3, 5],\n",
        "    5:[2, 4],\n",
        "}\n",
        "print(graph)"
      ],
      "metadata": {
        "colab": {
          "base_uri": "https://localhost:8080/"
        },
        "id": "ha4F2PF1DHN6",
        "outputId": "242256de-2b35-487f-993e-f19ccc3355f4"
      },
      "execution_count": 13,
      "outputs": [
        {
          "output_type": "stream",
          "name": "stdout",
          "text": [
            "{0: [1, 3], 1: [0, 2, 3], 2: [1, 4, 5], 3: [0, 1, 4], 4: [2, 3, 5], 5: [2, 4]}\n"
          ]
        }
      ]
    },
    {
      "cell_type": "markdown",
      "source": [
        "BFS Implementation"
      ],
      "metadata": {
        "id": "DPV8jnX0Ejne"
      }
    },
    {
      "cell_type": "code",
      "source": [
        "def bfs(graph, source):\n",
        "    Q = Queue()\n",
        "    visited_vertices = set()\n",
        "\n",
        "    Q.put(source)\n",
        "    visited_vertices.add(source)\n",
        "\n",
        "    while not Q.empty():\n",
        "        vertex = Q.get()\n",
        "        print(vertex, end=\"-->\")\n",
        "\n",
        "        for u in graph.get(vertex, []):\n",
        "            if u not in visited_vertices:\n",
        "                Q.put(u)\n",
        "                visited_vertices.add(u)\n",
        "bfs(graph, 0)"
      ],
      "metadata": {
        "colab": {
          "base_uri": "https://localhost:8080/"
        },
        "id": "Zna_Wz4LEoKF",
        "outputId": "7968e742-5439-4606-bcc7-8e6cb3d50f09"
      },
      "execution_count": 17,
      "outputs": [
        {
          "output_type": "stream",
          "name": "stdout",
          "text": [
            "0-->1-->3-->2-->4-->5-->"
          ]
        }
      ]
    },
    {
      "cell_type": "markdown",
      "source": [
        "DFS Implementation"
      ],
      "metadata": {
        "id": "ic95NeR8IFV7"
      }
    },
    {
      "cell_type": "code",
      "source": [],
      "metadata": {
        "id": "7pHZhETBIJHx"
      },
      "execution_count": null,
      "outputs": []
    }
  ]
}
