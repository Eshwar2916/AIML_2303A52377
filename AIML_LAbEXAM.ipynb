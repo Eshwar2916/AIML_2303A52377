{
  "nbformat": 4,
  "nbformat_minor": 0,
  "metadata": {
    "colab": {
      "provenance": [],
      "authorship_tag": "ABX9TyMqJ9gw64uvU8/b2GlNMCuE",
      "include_colab_link": true
    },
    "kernelspec": {
      "name": "python3",
      "display_name": "Python 3"
    },
    "language_info": {
      "name": "python"
    }
  },
  "cells": [
    {
      "cell_type": "markdown",
      "metadata": {
        "id": "view-in-github",
        "colab_type": "text"
      },
      "source": [
        "<a href=\"https://colab.research.google.com/github/Eshwar2916/AIML_2303A52377/blob/main/AIML_LAbEXAM.ipynb\" target=\"_parent\"><img src=\"https://colab.research.google.com/assets/colab-badge.svg\" alt=\"Open In Colab\"/></a>"
      ]
    },
    {
      "cell_type": "code",
      "execution_count": 2,
      "metadata": {
        "id": "AK9RkS4PkYxI"
      },
      "outputs": [],
      "source": [
        "import pandas as pd\n",
        "from sklearn.model_selection import train_test_split\n",
        "from sklearn.linear_model import LogisticRegression\n",
        "from sklearn.preprocessing import StandardScaler, LabelEncoder\n",
        "from sklearn.metrics import confusion_matrix, accuracy_score, f1_score, classification_report\n"
      ]
    },
    {
      "cell_type": "code",
      "source": [
        "file_path = \"//content/bd_students_per.csv\"\n",
        "data = pd.read_csv(file_path)\n",
        "data['High_Attendance'] = (data['attendance'] >= 80).astype(int)"
      ],
      "metadata": {
        "id": "e6QiuGzynbr7"
      },
      "execution_count": 3,
      "outputs": []
    },
    {
      "cell_type": "code",
      "source": [
        "numerical_features = ['family_size', 'english', 'math', 'science', 'social_science', 'art_culture']\n",
        "categorical_features = ['gender', 'mother_education', 'father_education', 'school_type']"
      ],
      "metadata": {
        "id": "7RFL4GV_ngEP"
      },
      "execution_count": 4,
      "outputs": []
    },
    {
      "cell_type": "code",
      "source": [
        "encoder = LabelEncoder()\n",
        "for col in categorical_features:\n",
        "    data[col] = encoder.fit_transform(data[col])\n",
        "\n",
        "X = data[numerical_features + categorical_features]\n",
        "y = data['High_Attendance']"
      ],
      "metadata": {
        "id": "ei5FnZlHnndc"
      },
      "execution_count": 5,
      "outputs": []
    },
    {
      "cell_type": "code",
      "source": [
        "scaler = StandardScaler()\n",
        "X[numerical_features] = scaler.fit_transform(X[numerical_features])\n",
        "\n",
        "X_train, X_test, y_train, y_test = train_test_split(X, y, test_size=0.2, random_state=42, stratify=y)"
      ],
      "metadata": {
        "colab": {
          "base_uri": "https://localhost:8080/"
        },
        "id": "i1Jnk1YPnvrL",
        "outputId": "2741745d-a1c5-4c4b-f33d-e7df6fb4c5f0"
      },
      "execution_count": 6,
      "outputs": [
        {
          "output_type": "stream",
          "name": "stderr",
          "text": [
            "<ipython-input-6-5c1a0095ac61>:2: SettingWithCopyWarning: \n",
            "A value is trying to be set on a copy of a slice from a DataFrame.\n",
            "Try using .loc[row_indexer,col_indexer] = value instead\n",
            "\n",
            "See the caveats in the documentation: https://pandas.pydata.org/pandas-docs/stable/user_guide/indexing.html#returning-a-view-versus-a-copy\n",
            "  X[numerical_features] = scaler.fit_transform(X[numerical_features])\n"
          ]
        }
      ]
    },
    {
      "cell_type": "code",
      "source": [
        "model = LogisticRegression(random_state=42, max_iter=1000)\n",
        "model.fit(X_train, y_train)\n",
        "\n",
        "y_pred = model.predict(X_test)\n",
        "\n",
        "conf_matrix = confusion_matrix(y_test, y_pred)\n",
        "accuracy = accuracy_score(y_test, y_pred)\n",
        "f1 = f1_score(y_test, y_pred)\n",
        "report = classification_report(y_test, y_pred)\n",
        "\n",
        "print(\"Confusion Matrix:\")\n",
        "print(conf_matrix)\n",
        "print(f\"\\nAccuracy: {accuracy:.2f}\")\n",
        "print(f\"F1-Score: {f1:.2f}\")\n",
        "print(\"\\nClassification Report:\")\n",
        "print(report)\n"
      ],
      "metadata": {
        "colab": {
          "base_uri": "https://localhost:8080/"
        },
        "id": "-1xVHI0Dn6Ck",
        "outputId": "9d59a2e0-e939-470d-ce43-ef48acb99e2e"
      },
      "execution_count": 7,
      "outputs": [
        {
          "output_type": "stream",
          "name": "stdout",
          "text": [
            "Confusion Matrix:\n",
            "[[843 191]\n",
            " [308 381]]\n",
            "\n",
            "Accuracy: 0.71\n",
            "F1-Score: 0.60\n",
            "\n",
            "Classification Report:\n",
            "              precision    recall  f1-score   support\n",
            "\n",
            "           0       0.73      0.82      0.77      1034\n",
            "           1       0.67      0.55      0.60       689\n",
            "\n",
            "    accuracy                           0.71      1723\n",
            "   macro avg       0.70      0.68      0.69      1723\n",
            "weighted avg       0.71      0.71      0.70      1723\n",
            "\n"
          ]
        }
      ]
    },
    {
      "cell_type": "code",
      "source": [],
      "metadata": {
        "id": "r4ZxPVnMn7fH"
      },
      "execution_count": null,
      "outputs": []
    }
  ]
}